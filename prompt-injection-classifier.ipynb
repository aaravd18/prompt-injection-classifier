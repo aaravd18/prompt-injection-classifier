{
 "cells": [
  {
   "cell_type": "code",
   "execution_count": 3,
   "id": "dc6c87c6-9d8b-4e81-b6a4-435f254b43ad",
   "metadata": {},
   "outputs": [],
   "source": [
    "from datasets import load_dataset\n",
    "from transformers import AutoTokenizer, AutoModelForSequenceClassification, TrainingArguments, Trainer\n",
    "import evaluate\n",
    "import numpy as np\n",
    "from transformers import DataCollatorWithPadding"
   ]
  },
  {
   "cell_type": "code",
   "execution_count": 4,
   "id": "566a1651-3832-43cb-99c4-6756380a5486",
   "metadata": {},
   "outputs": [],
   "source": [
    "dataset = load_dataset(\"deepset/prompt-injections\")"
   ]
  },
  {
   "cell_type": "code",
   "execution_count": 6,
   "id": "ee67d744-fa87-4b87-b08b-8ac6ca440004",
   "metadata": {},
   "outputs": [
    {
     "name": "stderr",
     "output_type": "stream",
     "text": [
      "Some weights of DebertaV2ForSequenceClassification were not initialized from the model checkpoint at microsoft/deberta-v3-base and are newly initialized: ['classifier.bias', 'classifier.weight', 'pooler.dense.bias', 'pooler.dense.weight']\n",
      "You should probably TRAIN this model on a down-stream task to be able to use it for predictions and inference.\n"
     ]
    }
   ],
   "source": [
    "model_path = \"microsoft/deberta-v3-base\"\n",
    "tokenizer = AutoTokenizer.from_pretrained(model_path)\n",
    "\n",
    "id2label = {0: \"Safe\", 1: \"Injection\"}\n",
    "label2id = {\"Safe\": 0, \"Injection\": 1}\n",
    "model = AutoModelForSequenceClassification.from_pretrained(model_path, \n",
    "                                                           num_labels=2, \n",
    "                                                           id2label=id2label, \n",
    "                                                           label2id=label2id,)"
   ]
  },
  {
   "cell_type": "code",
   "execution_count": 7,
   "id": "ceabfa24-6793-4459-8012-9792f08ae098",
   "metadata": {},
   "outputs": [],
   "source": [
    "# Keep most model base parameters fixed, and only train the pooling layers and classification head on top\n",
    "# Keep computational cost low while having some flexibility\n",
    "for name, param in model.base_model.named_parameters():\n",
    "    param.requires_grad = False\n",
    "\n",
    "for name, param in model.base_model.named_parameters():\n",
    "    if \"pooler\" in name:\n",
    "        param.requires_grad = True\n",
    "    "
   ]
  },
  {
   "cell_type": "code",
   "execution_count": 8,
   "id": "451748c2-305d-491e-a422-6acc96a87ab9",
   "metadata": {},
   "outputs": [
    {
     "data": {
      "application/vnd.jupyter.widget-view+json": {
       "model_id": "1097fe7a769748a48adbf85017835c8f",
       "version_major": 2,
       "version_minor": 0
      },
      "text/plain": [
       "Map:   0%|          | 0/546 [00:00<?, ? examples/s]"
      ]
     },
     "metadata": {},
     "output_type": "display_data"
    },
    {
     "data": {
      "application/vnd.jupyter.widget-view+json": {
       "model_id": "141bf540799f490582362ab18c148501",
       "version_major": 2,
       "version_minor": 0
      },
      "text/plain": [
       "Map:   0%|          | 0/116 [00:00<?, ? examples/s]"
      ]
     },
     "metadata": {},
     "output_type": "display_data"
    }
   ],
   "source": [
    "def preprocess(batch):\n",
    "    return tokenizer(\n",
    "      batch[\"text\"],\n",
    "      truncation=True,\n",
    "      padding=\"max_length\",\n",
    "      max_length=256,\n",
    "    )\n",
    "\n",
    "tokenized_data = dataset.map(preprocess, batched=True)"
   ]
  },
  {
   "cell_type": "code",
   "execution_count": 9,
   "id": "7ee1805b-b0fe-49cf-9b80-bd2db7b68e1d",
   "metadata": {},
   "outputs": [],
   "source": [
    "# data_collator = DataCollatorWithPadding(tokenizer=tokenizer)"
   ]
  },
  {
   "cell_type": "code",
   "execution_count": 13,
   "id": "75e78caa-b660-40f3-add5-d3208018d218",
   "metadata": {},
   "outputs": [],
   "source": [
    "accuracy = evaluate.load(\"accuracy\")\n",
    "auc_score = evaluate.load(\"roc_auc\")\n",
    "\n",
    "def compute_metrics(eval_pred):\n",
    "    # get predictions\n",
    "    predictions, labels = eval_pred\n",
    "    \n",
    "    # apply softmax to get probabilities\n",
    "    probabilities = np.exp(predictions) / np.exp(predictions).sum(-1, \n",
    "                                                                 keepdims=True)\n",
    "    # use probabilities of the positive class for ROC AUC\n",
    "    positive_class_probs = probabilities[:, 1]\n",
    "    # compute auc\n",
    "    auc = np.round(auc_score.compute(prediction_scores=positive_class_probs, \n",
    "                                     references=labels)['roc_auc'],3)\n",
    "    \n",
    "    # predict most probable class\n",
    "    predicted_classes = np.argmax(predictions, axis=1)\n",
    "    # compute accuracy\n",
    "    acc = np.round(accuracy.compute(predictions=predicted_classes, \n",
    "                                     references=labels)['accuracy'],3)\n",
    "    \n",
    "    return {\"Accuracy\": acc, \"AUC\": auc}"
   ]
  },
  {
   "cell_type": "code",
   "execution_count": 16,
   "id": "f1b40a20-e94b-46c7-9294-d4e43ca13848",
   "metadata": {},
   "outputs": [],
   "source": [
    "# hyperparameters\n",
    "lr = 2e-4\n",
    "batch_size = 8\n",
    "num_epochs = 3\n",
    "\n",
    "training_args = TrainingArguments(\n",
    "    output_dir=\"injection-classifier\",\n",
    "    learning_rate=lr,\n",
    "    per_device_train_batch_size=batch_size,\n",
    "    per_device_eval_batch_size=batch_size,\n",
    "    num_train_epochs=num_epochs,\n",
    "    logging_strategy=\"epoch\",\n",
    "    eval_strategy=\"epoch\",\n",
    "    save_strategy=\"epoch\",\n",
    "    gradient_accumulation_steps=2,\n",
    "    load_best_model_at_end=True,\n",
    ")"
   ]
  },
  {
   "cell_type": "code",
   "execution_count": 17,
   "id": "f2aad73f-afbd-4b65-a8f9-9633c7c1d6fb",
   "metadata": {},
   "outputs": [
    {
     "name": "stderr",
     "output_type": "stream",
     "text": [
      "/var/folders/xt/qr1jmc6d41v3p7l_mfsgy0800000gr/T/ipykernel_64641/2063883797.py:1: FutureWarning: `tokenizer` is deprecated and will be removed in version 5.0.0 for `Trainer.__init__`. Use `processing_class` instead.\n",
      "  trainer = Trainer(\n"
     ]
    },
    {
     "data": {
      "text/html": [
       "\n",
       "    <div>\n",
       "      \n",
       "      <progress value='105' max='105' style='width:300px; height:20px; vertical-align: middle;'></progress>\n",
       "      [105/105 06:53, Epoch 3/3]\n",
       "    </div>\n",
       "    <table border=\"1\" class=\"dataframe\">\n",
       "  <thead>\n",
       " <tr style=\"text-align: left;\">\n",
       "      <th>Epoch</th>\n",
       "      <th>Training Loss</th>\n",
       "      <th>Validation Loss</th>\n",
       "      <th>Accuracy</th>\n",
       "      <th>Auc</th>\n",
       "    </tr>\n",
       "  </thead>\n",
       "  <tbody>\n",
       "    <tr>\n",
       "      <td>1</td>\n",
       "      <td>0.625200</td>\n",
       "      <td>0.708326</td>\n",
       "      <td>0.483000</td>\n",
       "      <td>0.846000</td>\n",
       "    </tr>\n",
       "    <tr>\n",
       "      <td>2</td>\n",
       "      <td>0.593700</td>\n",
       "      <td>0.627008</td>\n",
       "      <td>0.716000</td>\n",
       "      <td>0.858000</td>\n",
       "    </tr>\n",
       "    <tr>\n",
       "      <td>3</td>\n",
       "      <td>0.579300</td>\n",
       "      <td>0.645599</td>\n",
       "      <td>0.491000</td>\n",
       "      <td>0.860000</td>\n",
       "    </tr>\n",
       "  </tbody>\n",
       "</table><p>"
      ],
      "text/plain": [
       "<IPython.core.display.HTML object>"
      ]
     },
     "metadata": {},
     "output_type": "display_data"
    },
    {
     "name": "stderr",
     "output_type": "stream",
     "text": [
      "/Users/aaravdesai/Desktop/CS/jupyter/venv/lib/python3.12/site-packages/torch/utils/data/dataloader.py:683: UserWarning: 'pin_memory' argument is set as true but not supported on MPS now, then device pinned memory won't be used.\n",
      "  warnings.warn(warn_msg)\n",
      "/Users/aaravdesai/Desktop/CS/jupyter/venv/lib/python3.12/site-packages/torch/utils/data/dataloader.py:683: UserWarning: 'pin_memory' argument is set as true but not supported on MPS now, then device pinned memory won't be used.\n",
      "  warnings.warn(warn_msg)\n"
     ]
    },
    {
     "data": {
      "text/plain": [
       "TrainOutput(global_step=105, training_loss=0.5994227091471355, metrics={'train_runtime': 421.0709, 'train_samples_per_second': 3.89, 'train_steps_per_second': 0.249, 'total_flos': 215491818866688.0, 'train_loss': 0.5994227091471355, 'epoch': 3.0})"
      ]
     },
     "execution_count": 17,
     "metadata": {},
     "output_type": "execute_result"
    }
   ],
   "source": [
    "trainer = Trainer(\n",
    "    model=model,\n",
    "    args=training_args,\n",
    "    train_dataset=tokenized_data[\"train\"],\n",
    "    eval_dataset=tokenized_data[\"test\"],\n",
    "    tokenizer=tokenizer,\n",
    "    compute_metrics=compute_metrics,\n",
    ")\n",
    "\n",
    "trainer.train()"
   ]
  },
  {
   "cell_type": "code",
   "execution_count": 18,
   "id": "e298e67e-f510-4b10-bab4-c7f9fa41f10f",
   "metadata": {},
   "outputs": [
    {
     "name": "stderr",
     "output_type": "stream",
     "text": [
      "/Users/aaravdesai/Desktop/CS/jupyter/venv/lib/python3.12/site-packages/torch/utils/data/dataloader.py:683: UserWarning: 'pin_memory' argument is set as true but not supported on MPS now, then device pinned memory won't be used.\n",
      "  warnings.warn(warn_msg)\n"
     ]
    },
    {
     "data": {
      "text/html": [],
      "text/plain": [
       "<IPython.core.display.HTML object>"
      ]
     },
     "metadata": {},
     "output_type": "display_data"
    },
    {
     "name": "stdout",
     "output_type": "stream",
     "text": [
      "Best accuracy 0.7931 at threshold 0.47\n",
      "Best F1      0.8092 at threshold 0.43\n"
     ]
    }
   ],
   "source": [
    "pred_out = trainer.predict(tokenized_data[\"test\"])\n",
    "logits = pred_out.predictions       # shape (N, 2)\n",
    "labels = pred_out.label_ids         # shape (N,)\n",
    "\n",
    "# 2. Manually compute softmax → positive-class probs\n",
    "#    subtract max for numerical stability\n",
    "logits_max = np.max(logits, axis=1, keepdims=True)\n",
    "exp_logits = np.exp(logits - logits_max)\n",
    "probs = exp_logits[:, 1] / exp_logits.sum(axis=1)\n",
    "\n",
    "# 3. Sweep thresholds 0→1 in 0.01 steps for best ACCURACY\n",
    "best_acc, best_thr = 0.0, 0.5\n",
    "for t in np.linspace(0, 1, 101):\n",
    "    preds = (probs >= t).astype(int)\n",
    "    acc = np.mean(preds == labels)\n",
    "    if acc > best_acc:\n",
    "        best_acc, best_thr = acc, t\n",
    "\n",
    "print(f\"Best accuracy {best_acc:.4f} at threshold {best_thr:.2f}\")\n",
    "\n",
    "# 4. (Optional) Sweep for best F1 too\n",
    "best_f1, best_f1_thr = 0.0, 0.5\n",
    "for t in np.linspace(0, 1, 101):\n",
    "    preds = (probs >= t).astype(int)\n",
    "    tp = np.sum((preds == 1) & (labels == 1))\n",
    "    fp = np.sum((preds == 1) & (labels == 0))\n",
    "    fn = np.sum((preds == 0) & (labels == 1))\n",
    "    # skip if no positive predictions or no true positives\n",
    "    if tp + fp == 0 or tp + fn == 0:\n",
    "        continue\n",
    "    prec = tp / (tp + fp)\n",
    "    rec  = tp / (tp + fn)\n",
    "    f1   = 2 * prec * rec / (prec + rec)\n",
    "    if f1 > best_f1:\n",
    "        best_f1, best_f1_thr = f1, t\n",
    "\n",
    "print(f\"Best F1      {best_f1:.4f} at threshold {best_f1_thr:.2f}\")"
   ]
  },
  {
   "cell_type": "code",
   "execution_count": null,
   "id": "926892d4-da3c-4ae6-87dc-a0063ac42fff",
   "metadata": {},
   "outputs": [],
   "source": []
  }
 ],
 "metadata": {
  "kernelspec": {
   "display_name": "Python 3 (ipykernel)",
   "language": "python",
   "name": "python3"
  },
  "language_info": {
   "codemirror_mode": {
    "name": "ipython",
    "version": 3
   },
   "file_extension": ".py",
   "mimetype": "text/x-python",
   "name": "python",
   "nbconvert_exporter": "python",
   "pygments_lexer": "ipython3",
   "version": "3.12.8"
  }
 },
 "nbformat": 4,
 "nbformat_minor": 5
}
