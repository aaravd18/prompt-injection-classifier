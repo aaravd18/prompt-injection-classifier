{
 "cells": [
  {
   "cell_type": "code",
   "execution_count": null,
   "id": "dc6c87c6-9d8b-4e81-b6a4-435f254b43ad",
   "metadata": {},
   "outputs": [],
   "source": [
    "from datasets import load_dataset\n",
    "from transformers import AutoTokenizer, AutoModelForSequenceClassification, TrainingArguments, Trainer\n",
    "import evaluate\n",
    "import numpy as np\n",
    "from transformers import DataCollatorWithPadding"
   ]
  },
  {
   "cell_type": "code",
   "execution_count": null,
   "id": "566a1651-3832-43cb-99c4-6756380a5486",
   "metadata": {},
   "outputs": [],
   "source": [
    "dataset = load_dataset(\"deepset/prompt-injections\")"
   ]
  },
  {
   "cell_type": "code",
   "execution_count": null,
   "id": "ee67d744-fa87-4b87-b08b-8ac6ca440004",
   "metadata": {},
   "outputs": [],
   "source": [
    "model_path = \"microsoft/deberta-v3-base\"\n",
    "tokenizer = AutoTokenizer.from_pretrained(model_path)\n",
    "\n",
    "id2label = {0: \"Safe\", 1: \"Injection\"}\n",
    "label2id = {\"Safe\": 0, \"Injection\": 1}\n",
    "model = AutoModelForSequenceClassification.from_pretrained(model_path, \n",
    "                                                           num_labels=2, \n",
    "                                                           id2label=id2label, \n",
    "                                                           label2id=label2id,)"
   ]
  },
  {
   "cell_type": "code",
   "execution_count": null,
   "id": "ceabfa24-6793-4459-8012-9792f08ae098",
   "metadata": {},
   "outputs": [],
   "source": [
    "# Keep most model base parameters fixed, and only train the pooling layers and classification head on top\n",
    "# Keep computational cost low while having some flexibility\n",
    "for name, param in model.base_model.named_parameters():\n",
    "    param.requires_grad = False\n",
    "\n",
    "for name, param in model.base_model.named_parameters():\n",
    "    if \"pooler\" in name:\n",
    "        param.requires_grad = True\n",
    "    "
   ]
  },
  {
   "cell_type": "code",
   "execution_count": null,
   "id": "451748c2-305d-491e-a422-6acc96a87ab9",
   "metadata": {},
   "outputs": [],
   "source": [
    "def preprocess(batch):\n",
    "    return tokenizer(\n",
    "      batch[\"text\"],\n",
    "      truncation=True,\n",
    "      padding=\"max_length\",\n",
    "      max_length=256,\n",
    "    )\n",
    "\n",
    "tokenized_data = dataset.map(preprocess, batched=True)"
   ]
  },
  {
   "cell_type": "code",
   "execution_count": null,
   "id": "7ee1805b-b0fe-49cf-9b80-bd2db7b68e1d",
   "metadata": {},
   "outputs": [],
   "source": [
    "# data_collator = DataCollatorWithPadding(tokenizer=tokenizer)"
   ]
  },
  {
   "cell_type": "code",
   "execution_count": null,
   "id": "75e78caa-b660-40f3-add5-d3208018d218",
   "metadata": {},
   "outputs": [],
   "source": [
    "accuracy = evaluate.load(\"accuracy\")\n",
    "auc_score = evaluate.load(\"roc_auc\")\n",
    "\n",
    "def compute_metrics(eval_pred):\n",
    "    # get predictions\n",
    "    predictions, labels = eval_pred\n",
    "    \n",
    "    # apply softmax to get probabilities\n",
    "    probabilities = np.exp(predictions) / np.exp(predictions).sum(-1, \n",
    "                                                                 keepdims=True)\n",
    "    # use probabilities of the positive class for ROC AUC\n",
    "    positive_class_probs = probabilities[:, 1]\n",
    "    # compute auc\n",
    "    auc = np.round(auc_score.compute(prediction_scores=positive_class_probs, \n",
    "                                     references=labels)['roc_auc'],3)\n",
    "    \n",
    "    # predict most probable class\n",
    "    predicted_classes = np.argmax(predictions, axis=1)\n",
    "    # compute accuracy\n",
    "    acc = np.round(accuracy.compute(predictions=predicted_classes, \n",
    "                                     references=labels)['accuracy'],3)\n",
    "    \n",
    "    return {\"Accuracy\": acc, \"AUC\": auc}"
   ]
  },
  {
   "cell_type": "code",
   "execution_count": null,
   "id": "f1b40a20-e94b-46c7-9294-d4e43ca13848",
   "metadata": {},
   "outputs": [],
   "source": [
    "# hyperparameters\n",
    "lr = 2e-4\n",
    "batch_size = 8\n",
    "num_epochs = 3\n",
    "\n",
    "training_args = TrainingArguments(\n",
    "    output_dir=\"injection-classifier\",\n",
    "    learning_rate=lr,\n",
    "    per_device_train_batch_size=batch_size,\n",
    "    per_device_eval_batch_size=batch_size,\n",
    "    num_train_epochs=num_epochs,\n",
    "    logging_strategy=\"epoch\",\n",
    "    eval_strategy=\"epoch\",\n",
    "    save_strategy=\"epoch\",\n",
    "    gradient_accumulation_steps=2,\n",
    "    load_best_model_at_end=True,\n",
    ")"
   ]
  },
  {
   "cell_type": "code",
   "execution_count": null,
   "id": "f2aad73f-afbd-4b65-a8f9-9633c7c1d6fb",
   "metadata": {},
   "outputs": [],
   "source": [
    "trainer = Trainer(\n",
    "    model=model,\n",
    "    args=training_args,\n",
    "    train_dataset=tokenized_data[\"train\"],\n",
    "    eval_dataset=tokenized_data[\"test\"],\n",
    "    tokenizer=tokenizer,\n",
    "    compute_metrics=compute_metrics,\n",
    ")\n",
    "\n",
    "trainer.train()"
   ]
  }
 ],
 "metadata": {
  "kernelspec": {
   "display_name": "Python 3 (ipykernel)",
   "language": "python",
   "name": "python3"
  },
  "language_info": {
   "codemirror_mode": {
    "name": "ipython",
    "version": 3
   },
   "file_extension": ".py",
   "mimetype": "text/x-python",
   "name": "python",
   "nbconvert_exporter": "python",
   "pygments_lexer": "ipython3",
   "version": "3.12.8"
  }
 },
 "nbformat": 4,
 "nbformat_minor": 5
}
